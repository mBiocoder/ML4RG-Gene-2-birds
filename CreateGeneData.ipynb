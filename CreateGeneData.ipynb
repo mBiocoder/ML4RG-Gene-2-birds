{
 "cells": [
  {
   "cell_type": "code",
   "execution_count": 2,
   "id": "f5c36656-d526-48b1-a927-2965a263c0bf",
   "metadata": {},
   "outputs": [],
   "source": [
    "\n",
    "import os\n",
    "import matplotlib.image as mpimg\n",
    "import matplotlib.pyplot as plt\n",
    "import torchvision\n",
    "import torch\n",
    "import clip\n",
    "import pandas as pd \n",
    "import numpy as np\n",
    "import json\n",
    "import h5py\n",
    "from sklearn.model_selection import train_test_split\n",
    "from sklearn import svm\n",
    "from sklearn.metrics import confusion_matrix, matthews_corrcoef\n",
    "os.chdir(\"/s/project/gene2bird/groupA\")\n"
   ]
  },
  {
   "cell_type": "code",
   "execution_count": 28,
   "id": "506e0b12-9adf-4b38-b7fc-2359db56fe58",
   "metadata": {
    "tags": []
   },
   "outputs": [],
   "source": [
    "\n",
    "with open(\"/s/project/gene2bird/groupA/complete_final.json\", \"r\") as file:\n",
    "    gene_dat = json.load(file)\n",
    "    for spec in gene_dat:\n",
    "        \n",
    "        #remove the species handle frome the gene name\n",
    "        \n",
    "        gene_dat[spec] = [g.split(\",\")[0] for g in gene_dat[spec]]\n",
    "        \n",
    "species = list(gene_dat.keys())\n",
    "gen = []\n",
    "\n",
    "#concatenate all genes into one long unique list\n",
    "\n",
    "for gene in gene_dat:\n",
    "    gen.extend(gene_dat[gene])\n",
    "gen = np.unique(gen)\n"
   ]
  },
  {
   "cell_type": "code",
   "execution_count": 29,
   "id": "39784f3d-8200-42a9-a028-f2afe8ef5c8e",
   "metadata": {
    "tags": []
   },
   "outputs": [
    {
     "name": "stdout",
     "output_type": "stream",
     "text": [
      "0 out of 17060\n",
      "2000 out of 17060\n",
      "4000 out of 17060\n",
      "6000 out of 17060\n",
      "8000 out of 17060\n",
      "10000 out of 17060\n",
      "12000 out of 17060\n",
      "14000 out of 17060\n",
      "16000 out of 17060\n"
     ]
    }
   ],
   "source": [
    "gen_df = pd.DataFrame(columns = species)\n",
    "\n",
    "#fill up dataframe with species as columns, genes as rows and the presence/absence of a gene as value\n",
    "#print statement just to see progress because im impatient \n",
    "\n",
    "n = len(gen)\n",
    "for i, g in enumerate(gen):\n",
    "    if i % 2000 == 0:\n",
    "        print(str(i) + \" out of \" + str(n))\n",
    "    row = [g in gene_dat[s] for s in species]\n",
    "    gen_df.loc[i] = row\n",
    "\n",
    "gen_df.index = gen\n",
    "\n"
   ]
  },
  {
   "cell_type": "code",
   "execution_count": 2,
   "id": "c66c5977-8cc0-4534-b8d9-6e9e8b9a6b69",
   "metadata": {
    "tags": []
   },
   "outputs": [],
   "source": [
    "#read in the gen_df instead of running again\n",
    "gen_df = pd.read_csv('/s/project/gene2bird/groupA/gene_by_species.csv', index_col = 0)\n"
   ]
  },
  {
   "cell_type": "code",
   "execution_count": 30,
   "id": "001d0b05-ee30-4330-a97b-bc78393303e9",
   "metadata": {
    "tags": []
   },
   "outputs": [
    {
     "data": {
      "image/png": "[encoded data removed]",
      "text/plain": [
       "<Figure size 432x288 with 1 Axes>"
      ]
     },
     "metadata": {
      "needs_background": "light"
     },
     "output_type": "display_data"
    }
   ],
   "source": [
    "import matplotlib.pyplot as plt\n",
    "\n",
    "_ = plt.hist(gene_df.sum(axis= 1), bins='auto')\n",
    "plt.title(\"Histogram with 'auto' bins\")\n",
    "plt.xlabel(\"Number of Species a given Protein is present in\")\n",
    "plt.show()"
   ]
  },
  {
   "cell_type": "code",
   "execution_count": 40,
   "id": "09781007-1774-41d1-b747-dae08c39fa15",
   "metadata": {
    "tags": []
   },
   "outputs": [
    {
     "data": {
      "text/plain": [
       "<AxesSubplot:ylabel='Frequency'>"
      ]
     },
     "execution_count": 40,
     "metadata": {},
     "output_type": "execute_result"
    },
    {
     "data": {
      "image/png": "[encoded data removed]",
      "text/plain": [
       "<Figure size 432x288 with 1 Axes>"
      ]
     },
     "metadata": {
      "needs_background": "light"
     },
     "output_type": "display_data"
    }
   ],
   "source": [
    "targets = [k in is_in for k in list(gene_df.index)]\n",
    "sums = gene_df.sum(axis= 1)\n",
    "df = pd.DataFrame(data = {\"is_target\":targets, \"occurence\":sums})\n",
    "df.pivot(columns='is_target', values='occurence').plot.hist()\n"
   ]
  },
  {
   "cell_type": "code",
   "execution_count": 5,
   "id": "14d59958-43db-4351-aaba-8137073197f7",
   "metadata": {
    "tags": []
   },
   "outputs": [
    {
     "data": {
      "text/html": [
       "<div>\n",
       "<style scoped>\n",
       "    .dataframe tbody tr th:only-of-type {\n",
       "        vertical-align: middle;\n",
       "    }\n",
       "\n",
       "    .dataframe tbody tr th {\n",
       "        vertical-align: top;\n",
       "    }\n",
       "\n",
       "    .dataframe thead th {\n",
       "        text-align: right;\n",
       "    }\n",
       "</style>\n",
       "<table border=\"1\" class=\"dataframe\">\n",
       "  <thead>\n",
       "    <tr style=\"text-align: right;\">\n",
       "      <th></th>\n",
       "      <th>filenam</th>\n",
       "      <th>scinam</th>\n",
       "      <th>subspecies</th>\n",
       "      <th>family</th>\n",
       "      <th>bownam</th>\n",
       "      <th>md5</th>\n",
       "      <th>color_morph</th>\n",
       "      <th>breeding_status</th>\n",
       "      <th>descriptor</th>\n",
       "      <th>nominate</th>\n",
       "      <th>sex</th>\n",
       "    </tr>\n",
       "  </thead>\n",
       "  <tbody>\n",
       "    <tr>\n",
       "      <th>0</th>\n",
       "      <td>Lesser_Short-toed_Lark_(apetzii)_Alaudala_rufe...</td>\n",
       "      <td>Alaudala rufescens</td>\n",
       "      <td>apetzii</td>\n",
       "      <td>Alaudidae</td>\n",
       "      <td>lstlar3</td>\n",
       "      <td>4b75cd686e1f2f2b24c1f67e16bf53a51</td>\n",
       "      <td>NaN</td>\n",
       "      <td>NaN</td>\n",
       "      <td>perched</td>\n",
       "      <td>no</td>\n",
       "      <td>male</td>\n",
       "    </tr>\n",
       "    <tr>\n",
       "      <th>1</th>\n",
       "      <td>Lesser_Short-toed_Lark_(heinei)_Alaudala_rufes...</td>\n",
       "      <td>Alaudala rufescens</td>\n",
       "      <td>heinei</td>\n",
       "      <td>Alaudidae</td>\n",
       "      <td>lstlar3</td>\n",
       "      <td>73e4b3f1459175d80f92666a319e2bd31</td>\n",
       "      <td>NaN</td>\n",
       "      <td>NaN</td>\n",
       "      <td>perched</td>\n",
       "      <td>no</td>\n",
       "      <td>male</td>\n",
       "    </tr>\n",
       "    <tr>\n",
       "      <th>2</th>\n",
       "      <td>Lesser_Short-toed_Lark_(rufescens)_Alaudala_ru...</td>\n",
       "      <td>Alaudala rufescens</td>\n",
       "      <td>rufescens</td>\n",
       "      <td>Alaudidae</td>\n",
       "      <td>lstlar3</td>\n",
       "      <td>5020d0e874e6d60a0cf22f29843950ce1</td>\n",
       "      <td>NaN</td>\n",
       "      <td>NaN</td>\n",
       "      <td>perched</td>\n",
       "      <td>yes</td>\n",
       "      <td>male</td>\n",
       "    </tr>\n",
       "    <tr>\n",
       "      <th>3</th>\n",
       "      <td>Sultan's_Cuckoo-Dove_(albiceps)_Macropygia_dor...</td>\n",
       "      <td>Macropygia doreya</td>\n",
       "      <td>albiceps</td>\n",
       "      <td>Columbidae</td>\n",
       "      <td>sulcud1</td>\n",
       "      <td>59fc96bd99917f452cada9f073d45cce1</td>\n",
       "      <td>NaN</td>\n",
       "      <td>NaN</td>\n",
       "      <td>perched</td>\n",
       "      <td>no</td>\n",
       "      <td>male</td>\n",
       "    </tr>\n",
       "    <tr>\n",
       "      <th>4</th>\n",
       "      <td>Sultan's_Cuckoo-Dove_(doreya)_Macropygia_dorey...</td>\n",
       "      <td>Macropygia doreya</td>\n",
       "      <td>doreya</td>\n",
       "      <td>Columbidae</td>\n",
       "      <td>sulcud1</td>\n",
       "      <td>e7681babc3c265180ca276e4205b33e41</td>\n",
       "      <td>NaN</td>\n",
       "      <td>NaN</td>\n",
       "      <td>perched</td>\n",
       "      <td>yes</td>\n",
       "      <td>male</td>\n",
       "    </tr>\n",
       "    <tr>\n",
       "      <th>...</th>\n",
       "      <td>...</td>\n",
       "      <td>...</td>\n",
       "      <td>...</td>\n",
       "      <td>...</td>\n",
       "      <td>...</td>\n",
       "      <td>...</td>\n",
       "      <td>...</td>\n",
       "      <td>...</td>\n",
       "      <td>...</td>\n",
       "      <td>...</td>\n",
       "      <td>...</td>\n",
       "    </tr>\n",
       "    <tr>\n",
       "      <th>31237</th>\n",
       "      <td>Oriental_Greenfinch_(sinica)_Chloris_sinica_si...</td>\n",
       "      <td>Chloris sinica</td>\n",
       "      <td>sinica</td>\n",
       "      <td>Fringillidae</td>\n",
       "      <td>origre</td>\n",
       "      <td>9faaa3c8d2a79a56672716350bd6a0ac1</td>\n",
       "      <td>NaN</td>\n",
       "      <td>NaN</td>\n",
       "      <td>perched</td>\n",
       "      <td>yes</td>\n",
       "      <td>female</td>\n",
       "    </tr>\n",
       "    <tr>\n",
       "      <th>31238</th>\n",
       "      <td>Vietnamese_Greenfinch_Chloris_monguilloti_Fema...</td>\n",
       "      <td>Chloris monguilloti</td>\n",
       "      <td>monguilloti</td>\n",
       "      <td>Fringillidae</td>\n",
       "      <td>viegre2</td>\n",
       "      <td>bf1abdd48b6a7a6bc0398b7385c0a7901</td>\n",
       "      <td>NaN</td>\n",
       "      <td>NaN</td>\n",
       "      <td>perched</td>\n",
       "      <td>yes</td>\n",
       "      <td>female</td>\n",
       "    </tr>\n",
       "    <tr>\n",
       "      <th>31239</th>\n",
       "      <td>Black-headed_Greenfinch_(ambigua)_Chloris_ambi...</td>\n",
       "      <td>Chloris ambigua</td>\n",
       "      <td>ambigua</td>\n",
       "      <td>Fringillidae</td>\n",
       "      <td>bkhgre1</td>\n",
       "      <td>072e1c690004aadf3a64bb74a69778eb1</td>\n",
       "      <td>NaN</td>\n",
       "      <td>NaN</td>\n",
       "      <td>perched</td>\n",
       "      <td>yes</td>\n",
       "      <td>female</td>\n",
       "    </tr>\n",
       "    <tr>\n",
       "      <th>31240</th>\n",
       "      <td>Red_Crossbill_(Da_Lat)_Loxia_curvirostra_merid...</td>\n",
       "      <td>Loxia curvirostra</td>\n",
       "      <td>meridionalis</td>\n",
       "      <td>Fringillidae</td>\n",
       "      <td>redcro</td>\n",
       "      <td>c653f65d784fa34e928634f8128571da1</td>\n",
       "      <td>NaN</td>\n",
       "      <td>NaN</td>\n",
       "      <td>perched</td>\n",
       "      <td>no</td>\n",
       "      <td>female</td>\n",
       "    </tr>\n",
       "    <tr>\n",
       "      <th>31241</th>\n",
       "      <td>Reed_Bunting_(pyrrhulina)_Emberiza_schoeniclus...</td>\n",
       "      <td>Emberiza schoeniclus</td>\n",
       "      <td>pyrrhulina</td>\n",
       "      <td>Emberizidae</td>\n",
       "      <td>reebun</td>\n",
       "      <td>0ada72cbe1f6304b889c7c97486742501</td>\n",
       "      <td>NaN</td>\n",
       "      <td>NaN</td>\n",
       "      <td>perched</td>\n",
       "      <td>no</td>\n",
       "      <td>female</td>\n",
       "    </tr>\n",
       "  </tbody>\n",
       "</table>\n",
       "<p>31242 rows × 11 columns</p>\n",
       "</div>"
      ],
      "text/plain": [
       "                                                 filenam   \n",
       "0      Lesser_Short-toed_Lark_(apetzii)_Alaudala_rufe...  \\\n",
       "1      Lesser_Short-toed_Lark_(heinei)_Alaudala_rufes...   \n",
       "2      Lesser_Short-toed_Lark_(rufescens)_Alaudala_ru...   \n",
       "3      Sultan's_Cuckoo-Dove_(albiceps)_Macropygia_dor...   \n",
       "4      Sultan's_Cuckoo-Dove_(doreya)_Macropygia_dorey...   \n",
       "...                                                  ...   \n",
       "31237  Oriental_Greenfinch_(sinica)_Chloris_sinica_si...   \n",
       "31238  Vietnamese_Greenfinch_Chloris_monguilloti_Fema...   \n",
       "31239  Black-headed_Greenfinch_(ambigua)_Chloris_ambi...   \n",
       "31240  Red_Crossbill_(Da_Lat)_Loxia_curvirostra_merid...   \n",
       "31241  Reed_Bunting_(pyrrhulina)_Emberiza_schoeniclus...   \n",
       "\n",
       "                     scinam    subspecies        family   bownam   \n",
       "0        Alaudala rufescens       apetzii     Alaudidae  lstlar3  \\\n",
       "1        Alaudala rufescens        heinei     Alaudidae  lstlar3   \n",
       "2        Alaudala rufescens     rufescens     Alaudidae  lstlar3   \n",
       "3         Macropygia doreya      albiceps    Columbidae  sulcud1   \n",
       "4         Macropygia doreya        doreya    Columbidae  sulcud1   \n",
       "...                     ...           ...           ...      ...   \n",
       "31237        Chloris sinica        sinica  Fringillidae   origre   \n",
       "31238   Chloris monguilloti   monguilloti  Fringillidae  viegre2   \n",
       "31239       Chloris ambigua       ambigua  Fringillidae  bkhgre1   \n",
       "31240     Loxia curvirostra  meridionalis  Fringillidae   redcro   \n",
       "31241  Emberiza schoeniclus    pyrrhulina   Emberizidae   reebun   \n",
       "\n",
       "                                     md5 color_morph breeding_status   \n",
       "0      4b75cd686e1f2f2b24c1f67e16bf53a51         NaN             NaN  \\\n",
       "1      73e4b3f1459175d80f92666a319e2bd31         NaN             NaN   \n",
       "2      5020d0e874e6d60a0cf22f29843950ce1         NaN             NaN   \n",
       "3      59fc96bd99917f452cada9f073d45cce1         NaN             NaN   \n",
       "4      e7681babc3c265180ca276e4205b33e41         NaN             NaN   \n",
       "...                                  ...         ...             ...   \n",
       "31237  9faaa3c8d2a79a56672716350bd6a0ac1         NaN             NaN   \n",
       "31238  bf1abdd48b6a7a6bc0398b7385c0a7901         NaN             NaN   \n",
       "31239  072e1c690004aadf3a64bb74a69778eb1         NaN             NaN   \n",
       "31240  c653f65d784fa34e928634f8128571da1         NaN             NaN   \n",
       "31241  0ada72cbe1f6304b889c7c97486742501         NaN             NaN   \n",
       "\n",
       "      descriptor nominate     sex  \n",
       "0        perched       no    male  \n",
       "1        perched       no    male  \n",
       "2        perched      yes    male  \n",
       "3        perched       no    male  \n",
       "4        perched      yes    male  \n",
       "...          ...      ...     ...  \n",
       "31237    perched      yes  female  \n",
       "31238    perched      yes  female  \n",
       "31239    perched      yes  female  \n",
       "31240    perched       no  female  \n",
       "31241    perched       no  female  \n",
       "\n",
       "[31242 rows x 11 columns]"
      ]
     },
     "execution_count": 5,
     "metadata": {},
     "output_type": "execute_result"
    }
   ],
   "source": [
    "import pandas as pd \n",
    "\n",
    "meta_df = pd.read_csv(\"../image_data/METADATA.csv\")\n",
    "meta_df"
   ]
  },
  {
   "cell_type": "code",
   "execution_count": 6,
   "id": "eb2cd429-8e27-4ae8-9368-d9e177e5bfbf",
   "metadata": {
    "tags": []
   },
   "outputs": [],
   "source": [
    "\n",
    "\n",
    "def create_dataset(target):\n",
    "    embeddings = pd.read_csv('/s/project/gene2bird/groupA/annotated_embeddings.csv', index_col = 0)\n",
    "    gene_df = pd.read_csv('/s/project/gene2bird/groupA/gene_by_species.csv', index_col = 0)\n",
    "    order = list(embeddings.index)\n",
    "    gene_df = gene_df[gene_df.columns.intersection(order)]\n",
    "    gene_df = gene_df[order]\n",
    "    response = [np.array(gene_df.loc[[dis]])[0] for dis in target]\n",
    "    return response\n",
    "\n",
    "\n",
    "\n",
    "    "
   ]
  },
  {
   "cell_type": "code",
   "execution_count": 52,
   "id": "851e63d4-2993-4183-9932-fdd709522b3a",
   "metadata": {
    "tags": []
   },
   "outputs": [],
   "source": [
    "goi = [\"ATP7A\", \"JMJD6\", \"SEMA6A\", \"SFRP1\", \"IVNS1ABP\", \"GPM6B\", \"TCF7\", \"ITGB1\", \"ATP7B\", \"FABP7\", \"LZTS1\", \"NDP\", \"CORIN\", \"ASIP\", \"SCARB1\", \"WNT5A\", \"SLC16A6\", \"MAPKAPK3\", \"PRKG2\", \"SLC19A2\", \"FRZB\", \"PRKCA\", \"CRHBP\", \"WNT7B\", \"HPGDS\", \"NDP\", \"TYRP1\", \"OCA2\", \"SLC45A2\", \"RASGRF1\", \"RAB38\", \"MLANA\", \"SLC24A4\", \"TYR\", \"CLCN7\", \"MC1R\", \"ATP6V1B2\", \"NR4A3\", \"CASP3\", \"FRZB\"]\n",
    "is_in = []\n",
    "for g in goi:\n",
    "    for gen in gene_df.index:\n",
    "        if g in gen:\n",
    "            is_in.append(gen)\n",
    "            break\n",
    "    \n",
    "    "
   ]
  },
  {
   "cell_type": "code",
   "execution_count": 3,
   "id": "3de67a6e-c32a-443f-95c7-8b0be05e61ea",
   "metadata": {
    "tags": []
   },
   "outputs": [],
   "source": [
    "embeddings = pd.read_csv('/s/project/gene2bird/groupA/annotated_embeddings.csv', index_col = 0)\n",
    "gene_df = pd.read_csv('/s/project/gene2bird/groupA/gene_by_species.csv', index_col = 0)\n",
    "order = list(embeddings.index)\n",
    "gene_df = gene_df[gene_df.columns.intersection(order)]\n",
    "gene_df = gene_df[order]\n"
   ]
  },
  {
   "cell_type": "code",
   "execution_count": 14,
   "id": "98d74bfe-2bdc-4336-aa37-d560085efd7e",
   "metadata": {
    "tags": []
   },
   "outputs": [],
   "source": [
    "color = create_dataset([\"MAL protein\"])[0]\n",
    "embeddings = pd.read_csv('/s/project/gene2bird/groupA/annotated_embeddings.csv', index_col = 0)\n"
   ]
  },
  {
   "cell_type": "code",
   "execution_count": 10,
   "id": "b348b8cb-9de8-4e58-a3a3-8a8b328d25cc",
   "metadata": {
    "tags": []
   },
   "outputs": [],
   "source": [
    "import umap.umap_ as umap"
   ]
  },
  {
   "cell_type": "code",
   "execution_count": 36,
   "id": "ebf7a4c4-ba6e-49b4-a236-4442250cee04",
   "metadata": {
    "tags": []
   },
   "outputs": [
    {
     "data": {
      "image/png": "[encoded data removed]",
      "text/plain": [
       "<Figure size 432x288 with 1 Axes>"
      ]
     },
     "metadata": {
      "needs_background": "light"
     },
     "output_type": "display_data"
    }
   ],
   "source": [
    "# Run UMAP to reduce dimensionality\n",
    "umap_emb = umap.UMAP(n_neighbors=15, min_dist=0.5).fit_transform(embeddings)\n",
    "\n",
    "# Plot the UMAP visualization\n",
    "plt.scatter(umap_emb[:, 0], umap_emb[:, 1], s=10, c = [\"green\" if c == 1 else \"red\" for c in color],)\n",
    "plt.title('UMAP Visualization of Embeddings')\n",
    "plt.xlabel('UMAP 1')\n",
    "plt.ylabel('UMAP 2')\n",
    "\n",
    "plt.show()"
   ]
  },
  {
   "cell_type": "code",
   "execution_count": 63,
   "id": "60c0ad02-db04-4f87-8546-7ef2decf8f67",
   "metadata": {
    "tags": []
   },
   "outputs": [],
   "source": [
    "prot_of_int = []\n",
    "for index, row in gene_df.iterrows():\n",
    "    if sum(row) > 150 and sum(row) < 225:\n",
    "        prot_of_int.append(index)\n"
   ]
  },
  {
   "cell_type": "code",
   "execution_count": 64,
   "id": "52401b1a-2837-446f-b315-96a59b309076",
   "metadata": {
    "tags": []
   },
   "outputs": [],
   "source": [
    "y_list = create_dataset(prot_of_int)\n",
    "x = pd.read_csv('/s/project/gene2bird/groupA/annotated_embeddings.csv', index_col = 0)"
   ]
  },
  {
   "cell_type": "code",
   "execution_count": 68,
   "id": "3e5ba20c-a657-4c0a-923d-018771665cb4",
   "metadata": {
    "tags": []
   },
   "outputs": [],
   "source": [
    "clf = svm.SVC()\n",
    "mcc = []\n",
    "for i, y in enumerate(y_list): \n",
    "    x_train, x_test, y_train, y_test = train_test_split(x, y, test_size=0.25)\n",
    "    clf.fit(x_train, y_train)\n",
    "    y_pred = clf.predict(x_test)\n",
    "    mcc.append(matthews_corrcoef(y_test, y_pred))\n",
    "mcc_df = pd.DataFrame(data = {\"Protein\":prot_of_int, \"MCC_Score\":mcc})"
   ]
  },
  {
   "cell_type": "code",
   "execution_count": 75,
   "id": "ce9ffaef-0924-4053-9531-f37c3f247043",
   "metadata": {
    "tags": []
   },
   "outputs": [
    {
     "data": {
      "text/html": [
       "<div>\n",
       "<style scoped>\n",
       "    .dataframe tbody tr th:only-of-type {\n",
       "        vertical-align: middle;\n",
       "    }\n",
       "\n",
       "    .dataframe tbody tr th {\n",
       "        vertical-align: top;\n",
       "    }\n",
       "\n",
       "    .dataframe thead th {\n",
       "        text-align: right;\n",
       "    }\n",
       "</style>\n",
       "<table border=\"1\" class=\"dataframe\">\n",
       "  <thead>\n",
       "    <tr style=\"text-align: right;\">\n",
       "      <th></th>\n",
       "      <th>Protein</th>\n",
       "      <th>MCC_Score</th>\n",
       "    </tr>\n",
       "  </thead>\n",
       "  <tbody>\n",
       "    <tr>\n",
       "      <th>4732</th>\n",
       "      <td>MAL protein</td>\n",
       "      <td>0.342467</td>\n",
       "    </tr>\n",
       "    <tr>\n",
       "      <th>259</th>\n",
       "      <td>AGO2 protein</td>\n",
       "      <td>0.277234</td>\n",
       "    </tr>\n",
       "    <tr>\n",
       "      <th>1481</th>\n",
       "      <td>CHAC1 glutamylcyclotransferase</td>\n",
       "      <td>0.231678</td>\n",
       "    </tr>\n",
       "    <tr>\n",
       "      <th>8289</th>\n",
       "      <td>SYT4 protein</td>\n",
       "      <td>0.204817</td>\n",
       "    </tr>\n",
       "    <tr>\n",
       "      <th>5109</th>\n",
       "      <td>MRAP2 protein</td>\n",
       "      <td>0.201987</td>\n",
       "    </tr>\n",
       "    <tr>\n",
       "      <th>...</th>\n",
       "      <td>...</td>\n",
       "      <td>...</td>\n",
       "    </tr>\n",
       "    <tr>\n",
       "      <th>7777</th>\n",
       "      <td>SIGIR protein</td>\n",
       "      <td>-0.168298</td>\n",
       "    </tr>\n",
       "    <tr>\n",
       "      <th>9566</th>\n",
       "      <td>ZBBX protein</td>\n",
       "      <td>-0.179298</td>\n",
       "    </tr>\n",
       "    <tr>\n",
       "      <th>3311</th>\n",
       "      <td>GMDS dehydratase</td>\n",
       "      <td>-0.183165</td>\n",
       "    </tr>\n",
       "    <tr>\n",
       "      <th>1821</th>\n",
       "      <td>CPN2 Carboxypeptidase</td>\n",
       "      <td>-0.197430</td>\n",
       "    </tr>\n",
       "    <tr>\n",
       "      <th>8302</th>\n",
       "      <td>SZRD1 protein</td>\n",
       "      <td>-0.283176</td>\n",
       "    </tr>\n",
       "  </tbody>\n",
       "</table>\n",
       "<p>9761 rows × 2 columns</p>\n",
       "</div>"
      ],
      "text/plain": [
       "                             Protein  MCC_Score\n",
       "4732                     MAL protein   0.342467\n",
       "259                     AGO2 protein   0.277234\n",
       "1481  CHAC1 glutamylcyclotransferase   0.231678\n",
       "8289                    SYT4 protein   0.204817\n",
       "5109                   MRAP2 protein   0.201987\n",
       "...                              ...        ...\n",
       "7777                   SIGIR protein  -0.168298\n",
       "9566                    ZBBX protein  -0.179298\n",
       "3311                GMDS dehydratase  -0.183165\n",
       "1821           CPN2 Carboxypeptidase  -0.197430\n",
       "8302                   SZRD1 protein  -0.283176\n",
       "\n",
       "[9761 rows x 2 columns]"
      ]
     },
     "execution_count": 75,
     "metadata": {},
     "output_type": "execute_result"
    }
   ],
   "source": [
    "mcc_df.sort_values(by = [\"MCC_Score\"], ascending=False)"
   ]
  },
  {
   "cell_type": "code",
   "execution_count": 61,
   "id": "bb48aa3f-58a9-42d0-93c5-061b423f3cf2",
   "metadata": {
    "tags": []
   },
   "outputs": [],
   "source": [
    "from sklearn.decomposition import PCA\n",
    "pca = PCA(n_components = 200)\n",
    "features = pca.fit_transform(embeddings)"
   ]
  },
  {
   "cell_type": "code",
   "execution_count": 62,
   "id": "1c475d1d-3dfa-4fdb-bc31-e61b114a0039",
   "metadata": {
    "tags": []
   },
   "outputs": [
    {
     "data": {
      "image/png": "[encoded data removed]",
      "text/plain": [
       "<Figure size 432x288 with 1 Axes>"
      ]
     },
     "metadata": {},
     "output_type": "display_data"
    }
   ],
   "source": [
    "X_train_pca = pca.fit_transform(embeddings)\n",
    "#\n",
    "# Determine explained variance using explained_variance_ration_ attribute\n",
    "#\n",
    "exp_var_pca = pca.explained_variance_ratio_\n",
    "#\n",
    "# Cumulative sum of eigenvalues; This will be used to create step plot\n",
    "# for visualizing the variance explained by each principal component.\n",
    "#\n",
    "cum_sum_eigenvalues = np.cumsum(exp_var_pca)\n",
    "#\n",
    "# Create the visualization plot\n",
    "#\n",
    "plt.bar(range(0,len(exp_var_pca)), exp_var_pca, alpha=0.5, align='center', label='Individual explained variance')\n",
    "plt.step(range(0,len(cum_sum_eigenvalues)), cum_sum_eigenvalues, where='mid',label='Cumulative explained variance')\n",
    "plt.ylabel('Explained variance ratio')\n",
    "plt.xlabel('Principal component index')\n",
    "plt.legend(loc='best')\n",
    "plt.tight_layout()\n",
    "plt.show()"
   ]
  }
 ],
 "metadata": {
  "kernelspec": {
   "display_name": "Python 3 (ipykernel)",
   "language": "python",
   "name": "python3"
  },
  "language_info": {
   "codemirror_mode": {
    "name": "ipython",
    "version": 3
   },
   "file_extension": ".py",
   "mimetype": "text/x-python",
   "name": "python",
   "nbconvert_exporter": "python",
   "pygments_lexer": "ipython3",
   "version": "3.8.13"
  }
 },
 "nbformat": 4,
 "nbformat_minor": 5
}
